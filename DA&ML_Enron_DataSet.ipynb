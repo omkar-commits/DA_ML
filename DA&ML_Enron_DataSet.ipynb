{
 "cells": [
  {
   "cell_type": "code",
   "execution_count": 2,
   "metadata": {},
   "outputs": [],
   "source": [
    "import sklearn\n",
    "from glob import glob\n",
    "from collections import Counter\n",
    "from sklearn import datasets\n",
    "from sklearn.feature_extraction.text import CountVectorizer\n",
    "from sklearn.feature_extraction.text import TfidfTransformer\n",
    "from sklearn.linear_model import SGDClassifier\n",
    "from sklearn import metrics\n",
    "from sklearn.pipeline import Pipeline \n",
    "categories = ['ham','spam']\n",
    "enron_emails =sklearn.datasets.load_files(\"C:\\\\Users\\\\OMKAR\\\\enrondatacombine\",random_state=0)   \n"
   ]
  },
  {
   "cell_type": "code",
   "execution_count": 3,
   "metadata": {},
   "outputs": [
    {
     "name": "stdout",
     "output_type": "stream",
     "text": [
      "33702\n"
     ]
    }
   ],
   "source": [
    "#Print the total number of email in enron data-set\n",
    "print(len(enron_emails.data))"
   ]
  },
  {
   "cell_type": "code",
   "execution_count": 4,
   "metadata": {},
   "outputs": [
    {
     "name": "stdout",
     "output_type": "stream",
     "text": [
      "16545\n",
      "17157\n"
     ]
    }
   ],
   "source": [
    "#print total number of Ham emails and total number of Spam emails\n",
    "ham_emails=sklearn.datasets.load_files('C:\\\\Users\\\\OMKAR\\\\enrondatacombine\\\\', categories=['ham'])\n",
    "spam_emails=sklearn.datasets.load_files('C:\\\\Users\\\\OMKAR\\\\enrondatacombine\\\\', categories=['spam'])\n",
    "print(len(ham_emails.data))\n",
    "print(len(spam_emails.data))\n"
   ]
  },
  {
   "cell_type": "code",
   "execution_count": 5,
   "metadata": {},
   "outputs": [],
   "source": [
    "xemail=enron_emails.data\n",
    "yemail=enron_emails.target"
   ]
  },
  {
   "cell_type": "code",
   "execution_count": 6,
   "metadata": {},
   "outputs": [],
   "source": [
    "# Creating DataFrame from list\n",
    "import pandas as pd\n",
    "df_X = pd.DataFrame({'Email':xemail})\n",
    "df_Y = pd.DataFrame({'Target':yemail})"
   ]
  },
  {
   "cell_type": "code",
   "execution_count": 7,
   "metadata": {},
   "outputs": [
    {
     "data": {
      "text/html": [
       "<div>\n",
       "<style scoped>\n",
       "    .dataframe tbody tr th:only-of-type {\n",
       "        vertical-align: middle;\n",
       "    }\n",
       "\n",
       "    .dataframe tbody tr th {\n",
       "        vertical-align: top;\n",
       "    }\n",
       "\n",
       "    .dataframe thead th {\n",
       "        text-align: right;\n",
       "    }\n",
       "</style>\n",
       "<table border=\"1\" class=\"dataframe\">\n",
       "  <thead>\n",
       "    <tr style=\"text-align: right;\">\n",
       "      <th></th>\n",
       "      <th>Email</th>\n",
       "    </tr>\n",
       "  </thead>\n",
       "  <tbody>\n",
       "    <tr>\n",
       "      <th>0</th>\n",
       "      <td>b'Subject: re : credit article\\r\\ndear vince\\r...</td>\n",
       "    </tr>\n",
       "    <tr>\n",
       "      <th>1</th>\n",
       "      <td>b'Subject: information for homeowners :\\r\\nhom...</td>\n",
       "    </tr>\n",
       "    <tr>\n",
       "      <th>2</th>\n",
       "      <td>b\"Subject: agenda for larry thorne ' s present...</td>\n",
       "    </tr>\n",
       "    <tr>\n",
       "      <th>3</th>\n",
       "      <td>b\"Subject: dear friend\\r\\ndear friend .\\r\\nas ...</td>\n",
       "    </tr>\n",
       "    <tr>\n",
       "      <th>4</th>\n",
       "      <td>b\"Subject: re : missing service rates for ena ...</td>\n",
       "    </tr>\n",
       "  </tbody>\n",
       "</table>\n",
       "</div>"
      ],
      "text/plain": [
       "                                               Email\n",
       "0  b'Subject: re : credit article\\r\\ndear vince\\r...\n",
       "1  b'Subject: information for homeowners :\\r\\nhom...\n",
       "2  b\"Subject: agenda for larry thorne ' s present...\n",
       "3  b\"Subject: dear friend\\r\\ndear friend .\\r\\nas ...\n",
       "4  b\"Subject: re : missing service rates for ena ..."
      ]
     },
     "execution_count": 7,
     "metadata": {},
     "output_type": "execute_result"
    }
   ],
   "source": [
    "df_X.head()"
   ]
  },
  {
   "cell_type": "code",
   "execution_count": 8,
   "metadata": {},
   "outputs": [
    {
     "data": {
      "text/html": [
       "<div>\n",
       "<style scoped>\n",
       "    .dataframe tbody tr th:only-of-type {\n",
       "        vertical-align: middle;\n",
       "    }\n",
       "\n",
       "    .dataframe tbody tr th {\n",
       "        vertical-align: top;\n",
       "    }\n",
       "\n",
       "    .dataframe thead th {\n",
       "        text-align: right;\n",
       "    }\n",
       "</style>\n",
       "<table border=\"1\" class=\"dataframe\">\n",
       "  <thead>\n",
       "    <tr style=\"text-align: right;\">\n",
       "      <th></th>\n",
       "      <th>Target</th>\n",
       "    </tr>\n",
       "  </thead>\n",
       "  <tbody>\n",
       "    <tr>\n",
       "      <th>0</th>\n",
       "      <td>0</td>\n",
       "    </tr>\n",
       "    <tr>\n",
       "      <th>1</th>\n",
       "      <td>1</td>\n",
       "    </tr>\n",
       "    <tr>\n",
       "      <th>2</th>\n",
       "      <td>0</td>\n",
       "    </tr>\n",
       "    <tr>\n",
       "      <th>3</th>\n",
       "      <td>1</td>\n",
       "    </tr>\n",
       "    <tr>\n",
       "      <th>4</th>\n",
       "      <td>0</td>\n",
       "    </tr>\n",
       "    <tr>\n",
       "      <th>5</th>\n",
       "      <td>1</td>\n",
       "    </tr>\n",
       "    <tr>\n",
       "      <th>6</th>\n",
       "      <td>1</td>\n",
       "    </tr>\n",
       "    <tr>\n",
       "      <th>7</th>\n",
       "      <td>0</td>\n",
       "    </tr>\n",
       "    <tr>\n",
       "      <th>8</th>\n",
       "      <td>0</td>\n",
       "    </tr>\n",
       "    <tr>\n",
       "      <th>9</th>\n",
       "      <td>1</td>\n",
       "    </tr>\n",
       "  </tbody>\n",
       "</table>\n",
       "</div>"
      ],
      "text/plain": [
       "   Target\n",
       "0       0\n",
       "1       1\n",
       "2       0\n",
       "3       1\n",
       "4       0\n",
       "5       1\n",
       "6       1\n",
       "7       0\n",
       "8       0\n",
       "9       1"
      ]
     },
     "execution_count": 8,
     "metadata": {},
     "output_type": "execute_result"
    }
   ],
   "source": [
    "df_Y.head(10)"
   ]
  },
  {
   "cell_type": "code",
   "execution_count": 9,
   "metadata": {},
   "outputs": [
    {
     "name": "stdout",
     "output_type": "stream",
     "text": [
      "Length of train set: (23591, 1) (23591, 1)\n",
      "Length of test set: (10111, 1) (10111, 1)\n"
     ]
    }
   ],
   "source": [
    "#EDA on training data set, therefore splitting the preprocessed data for analysis\n",
    "from sklearn.model_selection import train_test_split\n",
    "X_train, X_test, y_train, y_test = train_test_split(df_X,df_Y,test_size=0.3,random_state=42)\n",
    "print (\"Length of train set:\",X_train.shape,y_train.shape)\n",
    "print (\"Length of test set:\",X_test.shape,y_test.shape)"
   ]
  },
  {
   "cell_type": "code",
   "execution_count": 22,
   "metadata": {},
   "outputs": [
    {
     "data": {
      "text/html": [
       "<div>\n",
       "<style scoped>\n",
       "    .dataframe tbody tr th:only-of-type {\n",
       "        vertical-align: middle;\n",
       "    }\n",
       "\n",
       "    .dataframe tbody tr th {\n",
       "        vertical-align: top;\n",
       "    }\n",
       "\n",
       "    .dataframe thead th {\n",
       "        text-align: right;\n",
       "    }\n",
       "</style>\n",
       "<table border=\"1\" class=\"dataframe\">\n",
       "  <thead>\n",
       "    <tr style=\"text-align: right;\">\n",
       "      <th></th>\n",
       "      <th>Email</th>\n",
       "      <th>words</th>\n",
       "      <th>Target</th>\n",
       "    </tr>\n",
       "  </thead>\n",
       "  <tbody>\n",
       "    <tr>\n",
       "      <th>16954</th>\n",
       "      <td>b\"subject: get it on with a married babe\\r\\nho...</td>\n",
       "      <td>b subject get it on with a married up with a l...</td>\n",
       "      <td>1</td>\n",
       "    </tr>\n",
       "    <tr>\n",
       "      <th>31682</th>\n",
       "      <td>b'subject: secure your pc online\\r\\ngood day\\r...</td>\n",
       "      <td>secure your pc are now embarking on a massive ...</td>\n",
       "      <td>1</td>\n",
       "    </tr>\n",
       "    <tr>\n",
       "      <th>33431</th>\n",
       "      <td>b\"subject: weekend gas\\r\\njust wanted to revie...</td>\n",
       "      <td>b subject weekend wanted to review weekend sal...</td>\n",
       "      <td>0</td>\n",
       "    </tr>\n",
       "    <tr>\n",
       "      <th>31544</th>\n",
       "      <td>b\"subject: hot summer deals on computers , lap...</td>\n",
       "      <td>b subject hot summer deals on computers laptop...</td>\n",
       "      <td>1</td>\n",
       "    </tr>\n",
       "    <tr>\n",
       "      <th>12037</th>\n",
       "      <td>b\"subject: the first patented and natura [ l ]...</td>\n",
       "      <td>b subject the first patented and natura l fat ...</td>\n",
       "      <td>1</td>\n",
       "    </tr>\n",
       "    <tr>\n",
       "      <th>11686</th>\n",
       "      <td>b\"subject: re [ 4 ] : even you can afford a ro...</td>\n",
       "      <td>b subject re even you can afford a rolex now c...</td>\n",
       "      <td>1</td>\n",
       "    </tr>\n",
       "    <tr>\n",
       "      <th>6777</th>\n",
       "      <td>b'subject: looking for cheap high - quality so...</td>\n",
       "      <td>looking for cheap high quality for not expensi...</td>\n",
       "      <td>1</td>\n",
       "    </tr>\n",
       "    <tr>\n",
       "      <th>8807</th>\n",
       "      <td>b'subject: failure notice\\r\\nhi . this is the ...</td>\n",
       "      <td>failure this is the qmail send program at baco...</td>\n",
       "      <td>1</td>\n",
       "    </tr>\n",
       "    <tr>\n",
       "      <th>27912</th>\n",
       "      <td>b\"subject: april 30 operational risk meeting\\r...</td>\n",
       "      <td>b subject april operational risk sally and i a...</td>\n",
       "      <td>0</td>\n",
       "    </tr>\n",
       "    <tr>\n",
       "      <th>21707</th>\n",
       "      <td>b\"subject: wall street phenomenon reaps reward...</td>\n",
       "      <td>b subject wall street phenomenon reaps data in...</td>\n",
       "      <td>1</td>\n",
       "    </tr>\n",
       "  </tbody>\n",
       "</table>\n",
       "</div>"
      ],
      "text/plain": [
       "                                                   Email  \\\n",
       "16954  b\"subject: get it on with a married babe\\r\\nho...   \n",
       "31682  b'subject: secure your pc online\\r\\ngood day\\r...   \n",
       "33431  b\"subject: weekend gas\\r\\njust wanted to revie...   \n",
       "31544  b\"subject: hot summer deals on computers , lap...   \n",
       "12037  b\"subject: the first patented and natura [ l ]...   \n",
       "11686  b\"subject: re [ 4 ] : even you can afford a ro...   \n",
       "6777   b'subject: looking for cheap high - quality so...   \n",
       "8807   b'subject: failure notice\\r\\nhi . this is the ...   \n",
       "27912  b\"subject: april 30 operational risk meeting\\r...   \n",
       "21707  b\"subject: wall street phenomenon reaps reward...   \n",
       "\n",
       "                                                   words  Target  \n",
       "16954  b subject get it on with a married up with a l...       1  \n",
       "31682  secure your pc are now embarking on a massive ...       1  \n",
       "33431  b subject weekend wanted to review weekend sal...       0  \n",
       "31544  b subject hot summer deals on computers laptop...       1  \n",
       "12037  b subject the first patented and natura l fat ...       1  \n",
       "11686  b subject re even you can afford a rolex now c...       1  \n",
       "6777   looking for cheap high quality for not expensi...       1  \n",
       "8807   failure this is the qmail send program at baco...       1  \n",
       "27912  b subject april operational risk sally and i a...       0  \n",
       "21707  b subject wall street phenomenon reaps data in...       1  "
      ]
     },
     "execution_count": 22,
     "metadata": {},
     "output_type": "execute_result"
    }
   ],
   "source": [
    "df_train = pd.concat([X_train,y_train], axis=1)\n",
    "df_train.head(10)"
   ]
  },
  {
   "cell_type": "code",
   "execution_count": 12,
   "metadata": {},
   "outputs": [
    {
     "name": "stdout",
     "output_type": "stream",
     "text": [
      "[nltk_data] Downloading package punkt to\n",
      "[nltk_data]     C:\\Users\\OMKAR\\AppData\\Roaming\\nltk_data...\n",
      "[nltk_data]   Package punkt is already up-to-date!\n"
     ]
    },
    {
     "data": {
      "text/plain": [
       "True"
      ]
     },
     "execution_count": 12,
     "metadata": {},
     "output_type": "execute_result"
    }
   ],
   "source": [
    "import nltk\n",
    "nltk.download('punkt')"
   ]
  },
  {
   "cell_type": "code",
   "execution_count": 13,
   "metadata": {},
   "outputs": [
    {
     "name": "stdout",
     "output_type": "stream",
     "text": [
      "[nltk_data] Downloading package wordnet to\n",
      "[nltk_data]     C:\\Users\\OMKAR\\AppData\\Roaming\\nltk_data...\n",
      "[nltk_data]   Package wordnet is already up-to-date!\n"
     ]
    },
    {
     "data": {
      "text/plain": [
       "True"
      ]
     },
     "execution_count": 13,
     "metadata": {},
     "output_type": "execute_result"
    }
   ],
   "source": [
    " nltk.download('wordnet')"
   ]
  },
  {
   "cell_type": "code",
   "execution_count": 15,
   "metadata": {},
   "outputs": [
    {
     "name": "stderr",
     "output_type": "stream",
     "text": [
      "C:\\Users\\OMKAR\\Anaconda3\\lib\\site-packages\\ipykernel_launcher.py:4: SettingWithCopyWarning: \n",
      "A value is trying to be set on a copy of a slice from a DataFrame.\n",
      "Try using .loc[row_indexer,col_indexer] = value instead\n",
      "\n",
      "See the caveats in the documentation: http://pandas.pydata.org/pandas-docs/stable/indexing.html#indexing-view-versus-copy\n",
      "  after removing the cwd from sys.path.\n",
      "C:\\Users\\OMKAR\\Anaconda3\\lib\\site-packages\\ipykernel_launcher.py:13: SettingWithCopyWarning: \n",
      "A value is trying to be set on a copy of a slice from a DataFrame.\n",
      "Try using .loc[row_indexer,col_indexer] = value instead\n",
      "\n",
      "See the caveats in the documentation: http://pandas.pydata.org/pandas-docs/stable/indexing.html#indexing-view-versus-copy\n",
      "  del sys.path[0]\n"
     ]
    },
    {
     "data": {
      "text/html": [
       "<div>\n",
       "<style scoped>\n",
       "    .dataframe tbody tr th:only-of-type {\n",
       "        vertical-align: middle;\n",
       "    }\n",
       "\n",
       "    .dataframe tbody tr th {\n",
       "        vertical-align: top;\n",
       "    }\n",
       "\n",
       "    .dataframe thead th {\n",
       "        text-align: right;\n",
       "    }\n",
       "</style>\n",
       "<table border=\"1\" class=\"dataframe\">\n",
       "  <thead>\n",
       "    <tr style=\"text-align: right;\">\n",
       "      <th></th>\n",
       "      <th>Email</th>\n",
       "      <th>words</th>\n",
       "    </tr>\n",
       "  </thead>\n",
       "  <tbody>\n",
       "    <tr>\n",
       "      <th>16954</th>\n",
       "      <td>b\"subject: get it on with a married babe\\r\\nho...</td>\n",
       "      <td>b subject get it on with a married up with a l...</td>\n",
       "    </tr>\n",
       "    <tr>\n",
       "      <th>31682</th>\n",
       "      <td>b'subject: secure your pc online\\r\\ngood day\\r...</td>\n",
       "      <td>secure your pc are now embarking on a massive ...</td>\n",
       "    </tr>\n",
       "    <tr>\n",
       "      <th>33431</th>\n",
       "      <td>b\"subject: weekend gas\\r\\njust wanted to revie...</td>\n",
       "      <td>b subject weekend wanted to review weekend sal...</td>\n",
       "    </tr>\n",
       "    <tr>\n",
       "      <th>31544</th>\n",
       "      <td>b\"subject: hot summer deals on computers , lap...</td>\n",
       "      <td>b subject hot summer deals on computers laptop...</td>\n",
       "    </tr>\n",
       "    <tr>\n",
       "      <th>12037</th>\n",
       "      <td>b\"subject: the first patented and natura [ l ]...</td>\n",
       "      <td>b subject the first patented and natura l fat ...</td>\n",
       "    </tr>\n",
       "  </tbody>\n",
       "</table>\n",
       "</div>"
      ],
      "text/plain": [
       "                                                   Email  \\\n",
       "16954  b\"subject: get it on with a married babe\\r\\nho...   \n",
       "31682  b'subject: secure your pc online\\r\\ngood day\\r...   \n",
       "33431  b\"subject: weekend gas\\r\\njust wanted to revie...   \n",
       "31544  b\"subject: hot summer deals on computers , lap...   \n",
       "12037  b\"subject: the first patented and natura [ l ]...   \n",
       "\n",
       "                                                   words  \n",
       "16954  b subject get it on with a married up with a l...  \n",
       "31682  secure your pc are now embarking on a massive ...  \n",
       "33431  b subject weekend wanted to review weekend sal...  \n",
       "31544  b subject hot summer deals on computers laptop...  \n",
       "12037  b subject the first patented and natura l fat ...  "
      ]
     },
     "execution_count": 15,
     "metadata": {},
     "output_type": "execute_result"
    }
   ],
   "source": [
    "#TokeniZation #removal of special characters and get plain text\n",
    "import nltk\n",
    "\n",
    "X_train['Email'] = X_train['Email'].str.lower()\n",
    "\n",
    "def identify_tokens(row):\n",
    "    email = str(row['Email']).strip()\n",
    "    tokens = nltk.word_tokenize(email)\n",
    "    # taken only words (not punctuation)\n",
    "    token_words = \" \".join([w for w in tokens if w.isalpha()])\n",
    "    return token_words\n",
    "\n",
    "X_train['words'] = X_train.apply(identify_tokens, axis=1)\n",
    "X_train.head()"
   ]
  },
  {
   "cell_type": "code",
   "execution_count": 25,
   "metadata": {},
   "outputs": [
    {
     "data": {
      "text/html": [
       "<div>\n",
       "<style scoped>\n",
       "    .dataframe tbody tr th:only-of-type {\n",
       "        vertical-align: middle;\n",
       "    }\n",
       "\n",
       "    .dataframe tbody tr th {\n",
       "        vertical-align: top;\n",
       "    }\n",
       "\n",
       "    .dataframe thead th {\n",
       "        text-align: right;\n",
       "    }\n",
       "</style>\n",
       "<table border=\"1\" class=\"dataframe\">\n",
       "  <thead>\n",
       "    <tr style=\"text-align: right;\">\n",
       "      <th></th>\n",
       "      <th>Email</th>\n",
       "      <th>words</th>\n",
       "      <th>Target</th>\n",
       "    </tr>\n",
       "  </thead>\n",
       "  <tbody>\n",
       "    <tr>\n",
       "      <th>16954</th>\n",
       "      <td>b\"subject: get it on with a married babe\\r\\nho...</td>\n",
       "      <td>b subject get it on with a married up with a l...</td>\n",
       "      <td>1</td>\n",
       "    </tr>\n",
       "    <tr>\n",
       "      <th>31682</th>\n",
       "      <td>b'subject: secure your pc online\\r\\ngood day\\r...</td>\n",
       "      <td>secure your pc are now embarking on a massive ...</td>\n",
       "      <td>1</td>\n",
       "    </tr>\n",
       "    <tr>\n",
       "      <th>33431</th>\n",
       "      <td>b\"subject: weekend gas\\r\\njust wanted to revie...</td>\n",
       "      <td>b subject weekend wanted to review weekend sal...</td>\n",
       "      <td>0</td>\n",
       "    </tr>\n",
       "    <tr>\n",
       "      <th>31544</th>\n",
       "      <td>b\"subject: hot summer deals on computers , lap...</td>\n",
       "      <td>b subject hot summer deals on computers laptop...</td>\n",
       "      <td>1</td>\n",
       "    </tr>\n",
       "    <tr>\n",
       "      <th>12037</th>\n",
       "      <td>b\"subject: the first patented and natura [ l ]...</td>\n",
       "      <td>b subject the first patented and natura l fat ...</td>\n",
       "      <td>1</td>\n",
       "    </tr>\n",
       "  </tbody>\n",
       "</table>\n",
       "</div>"
      ],
      "text/plain": [
       "                                                   Email  \\\n",
       "16954  b\"subject: get it on with a married babe\\r\\nho...   \n",
       "31682  b'subject: secure your pc online\\r\\ngood day\\r...   \n",
       "33431  b\"subject: weekend gas\\r\\njust wanted to revie...   \n",
       "31544  b\"subject: hot summer deals on computers , lap...   \n",
       "12037  b\"subject: the first patented and natura [ l ]...   \n",
       "\n",
       "                                                   words  Target  \n",
       "16954  b subject get it on with a married up with a l...       1  \n",
       "31682  secure your pc are now embarking on a massive ...       1  \n",
       "33431  b subject weekend wanted to review weekend sal...       0  \n",
       "31544  b subject hot summer deals on computers laptop...       1  \n",
       "12037  b subject the first patented and natura l fat ...       1  "
      ]
     },
     "execution_count": 25,
     "metadata": {},
     "output_type": "execute_result"
    }
   ],
   "source": [
    "import nltk\n",
    "\n",
    "df_train['Email'] = df_train['Email'].str.lower()\n",
    "\n",
    "def identify_tokens(row):\n",
    "    email = str(row['Email']).strip()\n",
    "    tokens = nltk.word_tokenize(email)\n",
    "    # taken only words (not punctuation)\n",
    "    token_words = \" \".join([w for w in tokens if w.isalpha()])\n",
    "    return token_words\n",
    "\n",
    "df_train['words'] = df_train.apply(identify_tokens, axis=1)\n",
    "df_train.head()"
   ]
  },
  {
   "cell_type": "code",
   "execution_count": 27,
   "metadata": {},
   "outputs": [],
   "source": [
    "# Remove Stopwords\n",
    "from nltk.corpus import stopwords\n",
    "stop = stopwords.words('english')\n",
    "df_train['words'] = df_train['words'].apply(lambda x: \" \".join(x for x in x.split() if x not in stop))"
   ]
  },
  {
   "cell_type": "code",
   "execution_count": 28,
   "metadata": {},
   "outputs": [],
   "source": [
    "# Lemmatizatio\n",
    "from nltk.stem import WordNetLemmatizer\n",
    "from nltk.tokenize import word_tokenize\n",
    "lemmatizer=WordNetLemmatizer()\n",
    "\n",
    "df_train['words'] = df_train['words'].apply(lambda x: \" \".join([lemmatizer.lemmatize(word) for word in x.split()]))"
   ]
  },
  {
   "cell_type": "code",
   "execution_count": 29,
   "metadata": {},
   "outputs": [
    {
     "data": {
      "text/plain": [
       "enron      35213\n",
       "ect        20154\n",
       "company    17860\n",
       "hou        11738\n",
       "com        11450\n",
       "b          10467\n",
       "u          10296\n",
       "e          10074\n",
       "would       9895\n",
       "subject     9572\n",
       "dtype: int64"
      ]
     },
     "execution_count": 29,
     "metadata": {},
     "output_type": "execute_result"
    }
   ],
   "source": [
    "#Get frequency of words after lemmatization\n",
    "freq = pd.Series(' '.join(df_train['words']).split()).value_counts()[:10]\n",
    "freq"
   ]
  },
  {
   "cell_type": "code",
   "execution_count": 30,
   "metadata": {
    "scrolled": true
   },
   "outputs": [
    {
     "data": {
      "text/plain": [
       "16954    b subject get married lonely desperate wife ne...\n",
       "31682    secure pc embarking massive advertising campai...\n",
       "33431    b subject weekend wanted review weekend sale s...\n",
       "31544    b subject hot summer deal computer laptop deli...\n",
       "12037    b subject first patented natura l fat burner f...\n",
       "Name: words, dtype: object"
      ]
     },
     "execution_count": 30,
     "metadata": {},
     "output_type": "execute_result"
    }
   ],
   "source": [
    "# Removal of most commonly used words\n",
    "freq = list(freq)\n",
    "df_train['words'] = df_train['words'].apply(lambda x: \" \".join(x for x in x.split() if x not in freq))\n",
    "w for w in my_list if not w in stops\n",
    "df_train['words'].head()"
   ]
  },
  {
   "cell_type": "code",
   "execution_count": 32,
   "metadata": {},
   "outputs": [
    {
     "data": {
      "text/html": [
       "<div>\n",
       "<style scoped>\n",
       "    .dataframe tbody tr th:only-of-type {\n",
       "        vertical-align: middle;\n",
       "    }\n",
       "\n",
       "    .dataframe tbody tr th {\n",
       "        vertical-align: top;\n",
       "    }\n",
       "\n",
       "    .dataframe thead th {\n",
       "        text-align: right;\n",
       "    }\n",
       "</style>\n",
       "<table border=\"1\" class=\"dataframe\">\n",
       "  <thead>\n",
       "    <tr style=\"text-align: right;\">\n",
       "      <th></th>\n",
       "      <th>Email</th>\n",
       "      <th>words</th>\n",
       "      <th>Target</th>\n",
       "    </tr>\n",
       "  </thead>\n",
       "  <tbody>\n",
       "    <tr>\n",
       "      <th>33431</th>\n",
       "      <td>b\"subject: weekend gas\\r\\njust wanted to revie...</td>\n",
       "      <td>b subject weekend wanted review weekend sale s...</td>\n",
       "      <td>0</td>\n",
       "    </tr>\n",
       "    <tr>\n",
       "      <th>27912</th>\n",
       "      <td>b\"subject: april 30 operational risk meeting\\r...</td>\n",
       "      <td>b subject april operational risk sally plannin...</td>\n",
       "      <td>0</td>\n",
       "    </tr>\n",
       "    <tr>\n",
       "      <th>16188</th>\n",
       "      <td>b'subject: channel a / s line maintenance\\r\\nf...</td>\n",
       "      <td>channel line reduction total capacity station ...</td>\n",
       "      <td>0</td>\n",
       "    </tr>\n",
       "    <tr>\n",
       "      <th>32127</th>\n",
       "      <td>b'subject: jones graduate school course descri...</td>\n",
       "      <td>jones graduate school course description list ...</td>\n",
       "      <td>0</td>\n",
       "    </tr>\n",
       "    <tr>\n",
       "      <th>17663</th>\n",
       "      <td>b'subject: hpl nom for sept . 20 , 2000\\r\\n( s...</td>\n",
       "      <td>hpl nom sept see attached file hplo xl hplo xl</td>\n",
       "      <td>0</td>\n",
       "    </tr>\n",
       "  </tbody>\n",
       "</table>\n",
       "</div>"
      ],
      "text/plain": [
       "                                                   Email  \\\n",
       "33431  b\"subject: weekend gas\\r\\njust wanted to revie...   \n",
       "27912  b\"subject: april 30 operational risk meeting\\r...   \n",
       "16188  b'subject: channel a / s line maintenance\\r\\nf...   \n",
       "32127  b'subject: jones graduate school course descri...   \n",
       "17663  b'subject: hpl nom for sept . 20 , 2000\\r\\n( s...   \n",
       "\n",
       "                                                   words  Target  \n",
       "33431  b subject weekend wanted review weekend sale s...       0  \n",
       "27912  b subject april operational risk sally plannin...       0  \n",
       "16188  channel line reduction total capacity station ...       0  \n",
       "32127  jones graduate school course description list ...       0  \n",
       "17663     hpl nom sept see attached file hplo xl hplo xl       0  "
      ]
     },
     "execution_count": 32,
     "metadata": {},
     "output_type": "execute_result"
    }
   ],
   "source": [
    "df_ham = df_train[df_train.Target==0]\n",
    "df_ham.head()"
   ]
  },
  {
   "cell_type": "code",
   "execution_count": 81,
   "metadata": {},
   "outputs": [
    {
     "data": {
      "text/plain": [
       "enron      35210\n",
       "ect        20019\n",
       "hou        11608\n",
       "company     9360\n",
       "would       8087\n",
       "said        7609\n",
       "energy      6217\n",
       "new         5862\n",
       "com         5844\n",
       "gas         5783\n",
       "please      5557\n",
       "time        5470\n",
       "deal        5407\n",
       "market      5240\n",
       "year        4978\n",
       "corp        4930\n",
       "power       4910\n",
       "know        4726\n",
       "b           4668\n",
       "u           4619\n",
       "dtype: int64"
      ]
     },
     "execution_count": 81,
     "metadata": {},
     "output_type": "execute_result"
    }
   ],
   "source": [
    "#Get frequency of top 20 ham words after lemmatization\n",
    "#value count returs the value counts of each unique value in the given Series object.\n",
    "freq_ham = pd.Series(' '.join(df_ham['words']).split()).value_counts()[:20]\n",
    "freq_ham"
   ]
  },
  {
   "cell_type": "code",
   "execution_count": 153,
   "metadata": {},
   "outputs": [
    {
     "name": "stdout",
     "output_type": "stream",
     "text": [
      "[ 5407  5470  5862  5240  6217 35210  4619  4910  9360  4978 20019  5844\n",
      "  5557  4726  8087 11608  7609  4930  4668  5783]\n",
      "['enron' 'ect' 'hou' 'company' 'would' 'said' 'energy' 'new' 'com' 'gas'\n",
      " 'please' 'time' 'deal' 'market' 'year' 'corp' 'power' 'know' 'b' 'u']\n"
     ]
    }
   ],
   "source": [
    "#freq_ham.index\n",
    "import numpy as np\n",
    "h2=np.array(freq_ham.index)\n",
    "h1=np.array(freq_ham.value_counts()[:20].index)\n",
    "print(h1)\n",
    "print(h2)"
   ]
  },
  {
   "cell_type": "code",
   "execution_count": 131,
   "metadata": {},
   "outputs": [],
   "source": [
    "#h1=['enron', 'ect', 'hou', 'company', 'would', 'said', 'energy', 'new','com', 'gas', 'please', 'time', 'deal', 'market', 'year', 'corp','power', 'know', 'b', 'u']\n",
    "\n",
    "#h2=[20019,11608,9360,8087,7609,6217,5862,5844,5783,5557,5470,5407,5240,4978,4930,4910,4726,4668,4619]"
   ]
  },
  {
   "cell_type": "code",
   "execution_count": 163,
   "metadata": {},
   "outputs": [
    {
     "data": {
      "image/png": "[encoded data removed]",
      "text/plain": [
       "<Figure size 432x288 with 1 Axes>"
      ]
     },
     "metadata": {},
     "output_type": "display_data"
    }
   ],
   "source": [
    "#Plot of the top 20 words most freuently used in ham than spam\n",
    "import matplotlib.pyplot as plt\n",
    "import seaborn as sns\n",
    "bar_plot = sns.barplot(x=h1,y=h2,palette=(\"spring\"),order=h2[:20])\n",
    "bar_plot.set_xlabel('number of word count')\n",
    "plt.show()"
   ]
  },
  {
   "cell_type": "code",
   "execution_count": 34,
   "metadata": {},
   "outputs": [
    {
     "data": {
      "text/html": [
       "<div>\n",
       "<style scoped>\n",
       "    .dataframe tbody tr th:only-of-type {\n",
       "        vertical-align: middle;\n",
       "    }\n",
       "\n",
       "    .dataframe tbody tr th {\n",
       "        vertical-align: top;\n",
       "    }\n",
       "\n",
       "    .dataframe thead th {\n",
       "        text-align: right;\n",
       "    }\n",
       "</style>\n",
       "<table border=\"1\" class=\"dataframe\">\n",
       "  <thead>\n",
       "    <tr style=\"text-align: right;\">\n",
       "      <th></th>\n",
       "      <th>Email</th>\n",
       "      <th>words</th>\n",
       "      <th>Target</th>\n",
       "    </tr>\n",
       "  </thead>\n",
       "  <tbody>\n",
       "    <tr>\n",
       "      <th>16954</th>\n",
       "      <td>b\"subject: get it on with a married babe\\r\\nho...</td>\n",
       "      <td>b subject get married lonely desperate wife ne...</td>\n",
       "      <td>1</td>\n",
       "    </tr>\n",
       "    <tr>\n",
       "      <th>31682</th>\n",
       "      <td>b'subject: secure your pc online\\r\\ngood day\\r...</td>\n",
       "      <td>secure pc embarking massive advertising campai...</td>\n",
       "      <td>1</td>\n",
       "    </tr>\n",
       "    <tr>\n",
       "      <th>31544</th>\n",
       "      <td>b\"subject: hot summer deals on computers , lap...</td>\n",
       "      <td>b subject hot summer deal computer laptop deli...</td>\n",
       "      <td>1</td>\n",
       "    </tr>\n",
       "    <tr>\n",
       "      <th>12037</th>\n",
       "      <td>b\"subject: the first patented and natura [ l ]...</td>\n",
       "      <td>b subject first patented natura l fat burner f...</td>\n",
       "      <td>1</td>\n",
       "    </tr>\n",
       "    <tr>\n",
       "      <th>11686</th>\n",
       "      <td>b\"subject: re [ 4 ] : even you can afford a ro...</td>\n",
       "      <td>b subject even afford rolex come expressing in...</td>\n",
       "      <td>1</td>\n",
       "    </tr>\n",
       "  </tbody>\n",
       "</table>\n",
       "</div>"
      ],
      "text/plain": [
       "                                                   Email  \\\n",
       "16954  b\"subject: get it on with a married babe\\r\\nho...   \n",
       "31682  b'subject: secure your pc online\\r\\ngood day\\r...   \n",
       "31544  b\"subject: hot summer deals on computers , lap...   \n",
       "12037  b\"subject: the first patented and natura [ l ]...   \n",
       "11686  b\"subject: re [ 4 ] : even you can afford a ro...   \n",
       "\n",
       "                                                   words  Target  \n",
       "16954  b subject get married lonely desperate wife ne...       1  \n",
       "31682  secure pc embarking massive advertising campai...       1  \n",
       "31544  b subject hot summer deal computer laptop deli...       1  \n",
       "12037  b subject first patented natura l fat burner f...       1  \n",
       "11686  b subject even afford rolex come expressing in...       1  "
      ]
     },
     "execution_count": 34,
     "metadata": {},
     "output_type": "execute_result"
    }
   ],
   "source": [
    "#top 20 words in SPAM\n",
    "df_spam = df_train[df_train.Target==1]\n",
    "df_spam.head()"
   ]
  },
  {
   "cell_type": "code",
   "execution_count": 37,
   "metadata": {},
   "outputs": [
    {
     "data": {
      "text/plain": [
       "company        8500\n",
       "e              6128\n",
       "b              5799\n",
       "u              5677\n",
       "com            5606\n",
       "subject        5149\n",
       "price          4413\n",
       "statement      4287\n",
       "email          4169\n",
       "may            4059\n",
       "information    4004\n",
       "one            3953\n",
       "security       3808\n",
       "time           3663\n",
       "business       3566\n",
       "de             3549\n",
       "money          3481\n",
       "http           3455\n",
       "get            3398\n",
       "www            3330\n",
       "dtype: int64"
      ]
     },
     "execution_count": 37,
     "metadata": {},
     "output_type": "execute_result"
    }
   ],
   "source": [
    "#Get frequency of top 20 words in spam \n",
    "freq_spam = pd.Series(' '.join(df_spam['words']).split()).value_counts()[:20]\n",
    "freq_spam"
   ]
  },
  {
   "cell_type": "code",
   "execution_count": 157,
   "metadata": {},
   "outputs": [
    {
     "name": "stdout",
     "output_type": "stream",
     "text": [
      "[4287 5149 3330 3549 4004 5606 5799 4169 4413 5677 3566 3663 6128 3953\n",
      " 8500 3455 3398 3481 4059 3808]\n",
      "['company' 'e' 'b' 'u' 'com' 'subject' 'price' 'statement' 'email' 'may'\n",
      " 'information' 'one' 'security' 'time' 'business' 'de' 'money' 'http'\n",
      " 'get' 'www']\n"
     ]
    }
   ],
   "source": [
    "h4=np.array(freq_spam.index)\n",
    "h3=np.array(freq_spam.value_counts()[:20].index)\n",
    "print(h3)\n",
    "print(h4)"
   ]
  },
  {
   "cell_type": "code",
   "execution_count": 164,
   "metadata": {},
   "outputs": [
    {
     "data": {
      "image/png": "[encoded data removed]",
      "text/plain": [
       "<Figure size 432x288 with 1 Axes>"
      ]
     },
     "metadata": {},
     "output_type": "display_data"
    }
   ],
   "source": [
    "bar_plot1 = sns.barplot(x=h3,y=h4,palette=(\"spring\"),order=h4[:20])\n",
    "bar_plot1.set_xlabel('number of word count')\n",
    "plt.show()"
   ]
  },
  {
   "cell_type": "code",
   "execution_count": 167,
   "metadata": {},
   "outputs": [
    {
     "data": {
      "image/png": "[encoded data removed]",
      "text/plain": [
       "<Figure size 504x648 with 1 Axes>"
      ]
     },
     "metadata": {},
     "output_type": "display_data"
    }
   ],
   "source": [
    "lg_df_ham = []\n",
    "lg_df_spam = []\n",
    "\n",
    "for email in df_ham:\n",
    "    lg_df_ham.append(len(email))\n",
    "\n",
    "for email in df_spam:\n",
    "    lg_df_spam.append(len(email))\n",
    "fig=plt.figure(figsize=(7,9));\n",
    "plt_email=sns.boxplot(data=[lg_df_ham,lg_df_spam])\n",
    "plt_email.set(xticklabels=[\"ham_emails\",\"spam_emails\"])\n",
    "plt_email.set_ylabel('Length of ham and spam emails')\n",
    "plt.show()"
   ]
  },
  {
   "cell_type": "code",
   "execution_count": 89,
   "metadata": {},
   "outputs": [
    {
     "data": {
      "text/html": [
       "<div>\n",
       "<style scoped>\n",
       "    .dataframe tbody tr th:only-of-type {\n",
       "        vertical-align: middle;\n",
       "    }\n",
       "\n",
       "    .dataframe tbody tr th {\n",
       "        vertical-align: top;\n",
       "    }\n",
       "\n",
       "    .dataframe thead th {\n",
       "        text-align: right;\n",
       "    }\n",
       "</style>\n",
       "<table border=\"1\" class=\"dataframe\">\n",
       "  <thead>\n",
       "    <tr style=\"text-align: right;\">\n",
       "      <th></th>\n",
       "      <th>Email</th>\n",
       "      <th>words</th>\n",
       "    </tr>\n",
       "  </thead>\n",
       "  <tbody>\n",
       "    <tr>\n",
       "      <th>0</th>\n",
       "      <td>b'subject: re : credit article\\r\\ndear vince\\r...</td>\n",
       "      <td>re credit you very much for the information wi...</td>\n",
       "    </tr>\n",
       "    <tr>\n",
       "      <th>1</th>\n",
       "      <td>b'subject: information for homeowners :\\r\\nhom...</td>\n",
       "      <td>information for homeowners my last email on i ...</td>\n",
       "    </tr>\n",
       "    <tr>\n",
       "      <th>2</th>\n",
       "      <td>b\"subject: agenda for larry thorne ' s present...</td>\n",
       "      <td>b subject agenda for larry thorne s presentati...</td>\n",
       "    </tr>\n",
       "    <tr>\n",
       "      <th>3</th>\n",
       "      <td>b\"subject: dear friend\\r\\ndear friend .\\r\\nas ...</td>\n",
       "      <td>b subject dear friend you read this i don t wa...</td>\n",
       "    </tr>\n",
       "    <tr>\n",
       "      <th>4</th>\n",
       "      <td>b\"subject: re : missing service rates for ena ...</td>\n",
       "      <td>b subject re missing service rates for ena hpl...</td>\n",
       "    </tr>\n",
       "  </tbody>\n",
       "</table>\n",
       "</div>"
      ],
      "text/plain": [
       "                                               Email  \\\n",
       "0  b'subject: re : credit article\\r\\ndear vince\\r...   \n",
       "1  b'subject: information for homeowners :\\r\\nhom...   \n",
       "2  b\"subject: agenda for larry thorne ' s present...   \n",
       "3  b\"subject: dear friend\\r\\ndear friend .\\r\\nas ...   \n",
       "4  b\"subject: re : missing service rates for ena ...   \n",
       "\n",
       "                                               words  \n",
       "0  re credit you very much for the information wi...  \n",
       "1  information for homeowners my last email on i ...  \n",
       "2  b subject agenda for larry thorne s presentati...  \n",
       "3  b subject dear friend you read this i don t wa...  \n",
       "4  b subject re missing service rates for ena hpl...  "
      ]
     },
     "execution_count": 89,
     "metadata": {},
     "output_type": "execute_result"
    }
   ],
   "source": [
    "#Suoervised Classification and Feature extraction on Enron data\n",
    "#TokeniZation #removal of special characters and get plain text\n",
    "import nltk\n",
    "\n",
    "df_X['Email'] = df_X['Email'].str.lower()\n",
    "\n",
    "def identify_tokens(row):\n",
    "    email = str(row['Email']).strip()\n",
    "    tokens = nltk.word_tokenize(email)\n",
    "    # taken only words (not punctuation)\n",
    "    token_words = \" \".join([w for w in tokens if w.isalpha()])\n",
    "    return token_words\n",
    "\n",
    "df_X['words'] = df_X.apply(identify_tokens, axis=1)\n",
    "df_X.head()"
   ]
  },
  {
   "cell_type": "code",
   "execution_count": 90,
   "metadata": {},
   "outputs": [
    {
     "data": {
      "text/plain": [
       "the    255344\n",
       "to     185759\n",
       "and    141949\n",
       "of     138541\n",
       "a      107707\n",
       "in      96293\n",
       "for     75932\n",
       "you     73232\n",
       "is      67092\n",
       "on      55127\n",
       "dtype: int64"
      ]
     },
     "execution_count": 90,
     "metadata": {},
     "output_type": "execute_result"
    }
   ],
   "source": [
    "#Getting the most repeated words for stopword removal\n",
    "freq = pd.Series(' '.join(df_X['words']).split()).value_counts()[:10]\n",
    "freq"
   ]
  },
  {
   "cell_type": "code",
   "execution_count": 91,
   "metadata": {},
   "outputs": [],
   "source": [
    "# Remove Stopwords\n",
    "from nltk.corpus import stopwords\n",
    "stop = stopwords.words('english')\n",
    "df_X['words'] = df_X['words'].apply(lambda x: \" \".join(x for x in x.split() if x not in stop))"
   ]
  },
  {
   "cell_type": "code",
   "execution_count": 92,
   "metadata": {},
   "outputs": [],
   "source": [
    "# Lemmatizatio\n",
    "from nltk.stem import WordNetLemmatizer\n",
    "from nltk.tokenize import word_tokenize\n",
    "lemmatizer=WordNetLemmatizer()\n",
    "\n",
    "df_X['words'] = df_X['words'].apply(lambda x: \" \".join([lemmatizer.lemmatize(word) for word in x.split()]))"
   ]
  },
  {
   "cell_type": "code",
   "execution_count": 93,
   "metadata": {},
   "outputs": [
    {
     "data": {
      "text/plain": [
       "enron      50192\n",
       "ect        29314\n",
       "company    25594\n",
       "hou        17108\n",
       "com        16754\n",
       "b          15041\n",
       "u          14823\n",
       "e          14485\n",
       "would      14213\n",
       "subject    13700\n",
       "dtype: int64"
      ]
     },
     "execution_count": 93,
     "metadata": {},
     "output_type": "execute_result"
    }
   ],
   "source": [
    "#Get frequency of words after lemmatization\n",
    "freq = pd.Series(' '.join(df_X['words']).split()).value_counts()[:10]\n",
    "freq"
   ]
  },
  {
   "cell_type": "code",
   "execution_count": 94,
   "metadata": {},
   "outputs": [
    {
     "data": {
      "text/plain": [
       "0    credit much information get touch today keep i...\n",
       "1    information homeowner last email mentioned rat...\n",
       "2    b subject agenda larry thorne presentation mee...\n",
       "3    b subject dear friend read want feel sorry die...\n",
       "4    b subject missing service rate ena hplc cash f...\n",
       "Name: words, dtype: object"
      ]
     },
     "execution_count": 94,
     "metadata": {},
     "output_type": "execute_result"
    }
   ],
   "source": [
    "# Removal of most commonly used words\n",
    "freq = list(freq)\n",
    "df_X['words'] = df_X['words'].apply(lambda x: \" \".join(x for x in x.split() if x not in freq))\n",
    "df_X['words'].head()"
   ]
  },
  {
   "cell_type": "code",
   "execution_count": 95,
   "metadata": {},
   "outputs": [
    {
     "data": {
      "text/plain": [
       "(33702, 115344)"
      ]
     },
     "execution_count": 95,
     "metadata": {},
     "output_type": "execute_result"
    }
   ],
   "source": [
    "#Tfidf Vectorizer\n",
    "from sklearn.feature_extraction.text import TfidfVectorizer, CountVectorizer\n",
    "\n",
    "tf = TfidfVectorizer(analyzer='word',ngram_range=(1, 1),min_df=0, stop_words='english')\n",
    "tfidf_matrix = tf.fit_transform(df_X['words'])\n",
    "tfidf_matrix.shape"
   ]
  },
  {
   "cell_type": "code",
   "execution_count": 96,
   "metadata": {},
   "outputs": [
    {
     "data": {
      "text/plain": [
       "(33702, 2)"
      ]
     },
     "execution_count": 96,
     "metadata": {},
     "output_type": "execute_result"
    }
   ],
   "source": [
    "df_X.shape"
   ]
  },
  {
   "cell_type": "code",
   "execution_count": 97,
   "metadata": {},
   "outputs": [
    {
     "data": {
      "text/html": [
       "<div>\n",
       "<style scoped>\n",
       "    .dataframe tbody tr th:only-of-type {\n",
       "        vertical-align: middle;\n",
       "    }\n",
       "\n",
       "    .dataframe tbody tr th {\n",
       "        vertical-align: top;\n",
       "    }\n",
       "\n",
       "    .dataframe thead th {\n",
       "        text-align: right;\n",
       "    }\n",
       "</style>\n",
       "<table border=\"1\" class=\"dataframe\">\n",
       "  <thead>\n",
       "    <tr style=\"text-align: right;\">\n",
       "      <th></th>\n",
       "      <th>Email</th>\n",
       "      <th>words</th>\n",
       "    </tr>\n",
       "  </thead>\n",
       "  <tbody>\n",
       "    <tr>\n",
       "      <th>0</th>\n",
       "      <td>b'subject: re : credit article\\r\\ndear vince\\r...</td>\n",
       "      <td>credit much information get touch today keep i...</td>\n",
       "    </tr>\n",
       "    <tr>\n",
       "      <th>1</th>\n",
       "      <td>b'subject: information for homeowners :\\r\\nhom...</td>\n",
       "      <td>information homeowner last email mentioned rat...</td>\n",
       "    </tr>\n",
       "    <tr>\n",
       "      <th>2</th>\n",
       "      <td>b\"subject: agenda for larry thorne ' s present...</td>\n",
       "      <td>b subject agenda larry thorne presentation mee...</td>\n",
       "    </tr>\n",
       "    <tr>\n",
       "      <th>3</th>\n",
       "      <td>b\"subject: dear friend\\r\\ndear friend .\\r\\nas ...</td>\n",
       "      <td>b subject dear friend read want feel sorry die...</td>\n",
       "    </tr>\n",
       "    <tr>\n",
       "      <th>4</th>\n",
       "      <td>b\"subject: re : missing service rates for ena ...</td>\n",
       "      <td>b subject missing service rate ena hplc cash f...</td>\n",
       "    </tr>\n",
       "  </tbody>\n",
       "</table>\n",
       "</div>"
      ],
      "text/plain": [
       "                                               Email  \\\n",
       "0  b'subject: re : credit article\\r\\ndear vince\\r...   \n",
       "1  b'subject: information for homeowners :\\r\\nhom...   \n",
       "2  b\"subject: agenda for larry thorne ' s present...   \n",
       "3  b\"subject: dear friend\\r\\ndear friend .\\r\\nas ...   \n",
       "4  b\"subject: re : missing service rates for ena ...   \n",
       "\n",
       "                                               words  \n",
       "0  credit much information get touch today keep i...  \n",
       "1  information homeowner last email mentioned rat...  \n",
       "2  b subject agenda larry thorne presentation mee...  \n",
       "3  b subject dear friend read want feel sorry die...  \n",
       "4  b subject missing service rate ena hplc cash f...  "
      ]
     },
     "execution_count": 97,
     "metadata": {},
     "output_type": "execute_result"
    }
   ],
   "source": [
    "df_X.head()"
   ]
  },
  {
   "cell_type": "code",
   "execution_count": 98,
   "metadata": {},
   "outputs": [
    {
     "data": {
      "text/plain": [
       "'credit much information get touch today keep informed j katja schilling lon ect ect vasant shanbhogue hou ect vince j kaminski hou ect credit magazine copyright contact get use external user contact n swly mail risk co riskpublications discus legal aspect katja schilling lon ect vince j kaminski hou ect credit think minor change would allow use file check risk risk book specialist division publication london address haymarket house haymarket swly rx publication book entitled credit derivative application management investment portfolio optimisation publishd sure lawyer involved maybe vince know vasant shanbhogue hou ect bijoya banerjea lon ect credit vasant updated discussion risk magazine credit found attachment sent actually word published version change minor wever altered article way question concern copyright since version sent different think give u freedom publish consent risk tell published risk uk risk issue want detail call someone magazine lawyer involved publication procedure london houston pr vince question want avoid problem well'"
      ]
     },
     "execution_count": 98,
     "metadata": {},
     "output_type": "execute_result"
    }
   ],
   "source": [
    "df_X['words'][0]"
   ]
  },
  {
   "cell_type": "code",
   "execution_count": 99,
   "metadata": {},
   "outputs": [
    {
     "name": "stdout",
     "output_type": "stream",
     "text": [
      "    features     score\n",
      "0       rate  0.425991\n",
      "1  ratelower  0.374244\n",
      "2      edged  0.302038\n",
      "3     partid  0.268178\n",
      "4    lending  0.249408\n",
      "5  homeowner  0.241167\n",
      "6   slightly  0.234971\n",
      "7     rising  0.230132\n",
      "8     lender  0.218100\n",
      "9     lowest  0.195071\n"
     ]
    }
   ],
   "source": [
    "# top keywords were in those emails\n",
    "import numpy as np\n",
    "def top_tfidf_feats(row, features, top_n=20):\n",
    "    topn_ids = np.argsort(row)[::-1][:top_n]\n",
    "    top_feats = [(features[i], row[i]) for i in topn_ids]\n",
    "    df = pd.DataFrame(top_feats, columns=['features', 'score'])\n",
    "    return df\n",
    "def top_feats_in_doc(X, features, row_id, top_n=25):\n",
    "    row = np.squeeze(X[row_id].toarray())\n",
    "    return top_tfidf_feats(row, features, top_n)\n",
    "\n",
    "features = tf.get_feature_names()\n",
    "print(top_feats_in_doc(tfidf_matrix, features, 1, 10))"
   ]
  },
  {
   "cell_type": "code",
   "execution_count": 100,
   "metadata": {},
   "outputs": [
    {
     "name": "stdout",
     "output_type": "stream",
     "text": [
      "Length of train set: (23591, 115344) (23591, 1)\n",
      "Length of test set: (10111, 115344) (10111, 1)\n"
     ]
    }
   ],
   "source": [
    "from sklearn.model_selection import train_test_split\n",
    "X_train, X_test, y_train, y_test = train_test_split(tfidf_matrix,df_Y,test_size=0.3,random_state=42)\n",
    "print (\"Length of train set:\",X_train.shape,y_train.shape)\n",
    "print (\"Length of test set:\",X_test.shape,y_test.shape)"
   ]
  },
  {
   "cell_type": "code",
   "execution_count": 101,
   "metadata": {},
   "outputs": [
    {
     "name": "stdout",
     "output_type": "stream",
     "text": [
      "Length of train set: (16513, 115344) (16513, 1)\n",
      "Length of validation set: (7078, 115344) (10111, 1)\n"
     ]
    }
   ],
   "source": [
    "#creating validation data from training data\n",
    "X_train, X_val, y_train, y_val = train_test_split(X_train, y_train, test_size=0.3, random_state=1)\n",
    "print (\"Length of train set:\",X_train.shape,y_train.shape)\n",
    "print (\"Length of validation set:\",X_val.shape,y_test.shape)\n",
    "    "
   ]
  },
  {
   "cell_type": "code",
   "execution_count": 102,
   "metadata": {},
   "outputs": [
    {
     "name": "stderr",
     "output_type": "stream",
     "text": [
      "C:\\Users\\OMKAR\\Anaconda3\\lib\\site-packages\\sklearn\\utils\\validation.py:578: DataConversionWarning: A column-vector y was passed when a 1d array was expected. Please change the shape of y to (n_samples, ), for example using ravel().\n",
      "  y = column_or_1d(y, warn=True)\n"
     ]
    }
   ],
   "source": [
    "#Using pickle operation to serialize machine learning algorithms and save the serialized format to a file.\n",
    "import pickle\n",
    "from sklearn.naive_bayes import MultinomialNB\n",
    "multi_nb = MultinomialNB(alpha=0.01)\n",
    "multi_nb.fit(X_train,y_train)\n",
    "with open('trainModel.pickle','wb') as modelFile:\n",
    "    pickle.dump(multi_nb,modelFile)"
   ]
  },
  {
   "cell_type": "code",
   "execution_count": 103,
   "metadata": {},
   "outputs": [],
   "source": [
    "y_pred = multi_nb.predict(X_val)"
   ]
  },
  {
   "cell_type": "code",
   "execution_count": 104,
   "metadata": {},
   "outputs": [
    {
     "name": "stdout",
     "output_type": "stream",
     "text": [
      "[[3393   45]\n",
      " [  85 3555]]\n",
      "             precision    recall  f1-score   support\n",
      "\n",
      "          0       0.98      0.99      0.98      3438\n",
      "          1       0.99      0.98      0.98      3640\n",
      "\n",
      "avg / total       0.98      0.98      0.98      7078\n",
      "\n",
      "0.9816332297259113\n"
     ]
    }
   ],
   "source": [
    "# Evaluating the Model\n",
    "from sklearn.metrics import classification_report, confusion_matrix, accuracy_score\n",
    "\n",
    "print(confusion_matrix(y_val,y_pred))\n",
    "print(classification_report(y_val,y_pred))\n",
    "print(accuracy_score(y_val, y_pred))"
   ]
  },
  {
   "cell_type": "code",
   "execution_count": 105,
   "metadata": {},
   "outputs": [
    {
     "name": "stderr",
     "output_type": "stream",
     "text": [
      "C:\\Users\\OMKAR\\Anaconda3\\lib\\site-packages\\ipykernel_launcher.py:6: DataConversionWarning: A column-vector y was passed when a 1d array was expected. Please change the shape of y to (n_samples,), for example using ravel().\n",
      "  \n"
     ]
    }
   ],
   "source": [
    "# Import the model we are using\n",
    "from sklearn.ensemble import RandomForestClassifier\n",
    "# Instantiate model with 100 decision trees\n",
    "rf = RandomForestClassifier(n_estimators = 100, random_state =42)\n",
    "# Train the model on training data\n",
    "rf.fit(X_train, y_train);"
   ]
  },
  {
   "cell_type": "code",
   "execution_count": 106,
   "metadata": {},
   "outputs": [
    {
     "data": {
      "text/plain": [
       "0.9810680983328623"
      ]
     },
     "execution_count": 106,
     "metadata": {},
     "output_type": "execute_result"
    }
   ],
   "source": [
    "# Use the forest's predict method on the test data\n",
    "y_predictions = rf.predict(X_val)\n",
    "rf_accuracy=metrics.accuracy_score(y_val,y_predictions)\n",
    "rf_accuracy"
   ]
  },
  {
   "cell_type": "code",
   "execution_count": 107,
   "metadata": {},
   "outputs": [
    {
     "data": {
      "text/plain": [
       "DecisionTreeClassifier(class_weight=None, criterion='gini', max_depth=None,\n",
       "            max_features=None, max_leaf_nodes=None,\n",
       "            min_impurity_decrease=0.0, min_impurity_split=None,\n",
       "            min_samples_leaf=1, min_samples_split=2,\n",
       "            min_weight_fraction_leaf=0.0, presort=False, random_state=0,\n",
       "            splitter='random')"
      ]
     },
     "execution_count": 107,
     "metadata": {},
     "output_type": "execute_result"
    }
   ],
   "source": [
    "#Implementation of model DecisionTree\n",
    "from sklearn.tree import DecisionTreeClassifier\n",
    "d_tree_c=DecisionTreeClassifier(splitter='random',random_state=0)\n",
    "d_tree_c.fit(X_train, y_train)"
   ]
  },
  {
   "cell_type": "code",
   "execution_count": 108,
   "metadata": {},
   "outputs": [
    {
     "data": {
      "text/plain": [
       "0.9441932749364227"
      ]
     },
     "execution_count": 108,
     "metadata": {},
     "output_type": "execute_result"
    }
   ],
   "source": [
    "y_pred_d_tree_c = d_tree_c.predict(X_val)\n",
    "d_tree_cAcc=metrics.accuracy_score(y_val, y_pred_d_tree_c)\n",
    "d_tree_cAcc"
   ]
  },
  {
   "cell_type": "code",
   "execution_count": 109,
   "metadata": {},
   "outputs": [
    {
     "name": "stderr",
     "output_type": "stream",
     "text": [
      "C:\\Users\\OMKAR\\Anaconda3\\lib\\site-packages\\sklearn\\utils\\validation.py:578: DataConversionWarning: A column-vector y was passed when a 1d array was expected. Please change the shape of y to (n_samples, ), for example using ravel().\n",
      "  y = column_or_1d(y, warn=True)\n"
     ]
    },
    {
     "data": {
      "text/plain": [
       "LogisticRegression(C=1.0, class_weight=None, dual=False, fit_intercept=True,\n",
       "          intercept_scaling=1, max_iter=100, multi_class='ovr', n_jobs=1,\n",
       "          penalty='l2', random_state=None, solver='liblinear', tol=0.0001,\n",
       "          verbose=0, warm_start=False)"
      ]
     },
     "execution_count": 109,
     "metadata": {},
     "output_type": "execute_result"
    }
   ],
   "source": [
    "from sklearn.linear_model import LogisticRegression\n",
    "logreg = LogisticRegression()\n",
    "logreg.fit(X_train, y_train)"
   ]
  },
  {
   "cell_type": "code",
   "execution_count": 110,
   "metadata": {},
   "outputs": [
    {
     "name": "stdout",
     "output_type": "stream",
     "text": [
      "Accuracy of logistic regression classifier on test set\n"
     ]
    },
    {
     "data": {
      "text/plain": [
       "0.9759819157954225"
      ]
     },
     "execution_count": 110,
     "metadata": {},
     "output_type": "execute_result"
    }
   ],
   "source": [
    "y_pred_lgr = logreg.predict(X_val)\n",
    "print('Accuracy of logistic regression classifier on test set')\n",
    "logreg_accuracy=metrics.accuracy_score(y_val,y_pred_lgr)\n",
    "logreg_accuracy"
   ]
  },
  {
   "cell_type": "code",
   "execution_count": 111,
   "metadata": {},
   "outputs": [
    {
     "data": {
      "text/plain": [
       "Text(0.5,1,'Accuracy Scores')"
      ]
     },
     "execution_count": 111,
     "metadata": {},
     "output_type": "execute_result"
    },
    {
     "data": {
      "image/png": "[encoded data removed]",
      "text/plain": [
       "<Figure size 432x288 with 1 Axes>"
      ]
     },
     "metadata": {},
     "output_type": "display_data"
    }
   ],
   "source": [
    "#accuracy score comparison\n",
    "from matplotlib import pyplot as plt\n",
    "O= ['NB', 'Log-reg', 'RF', 'DT']\n",
    "Accuracy= [0.9816332297259113,0.9759819157954225,0.9810680983328623, 0.9441932749364227]\n",
    "position= np.arange(len(O))\n",
    "plt.bar(position, Accuracy, align ='center', alpha=0.3)\n",
    "plt.xticks(position,O)\n",
    "plt.ylabel('Accuracy')\n",
    "plt.title('Accuracy Scores')"
   ]
  },
  {
   "cell_type": "code",
   "execution_count": 112,
   "metadata": {},
   "outputs": [
    {
     "data": {
      "text/plain": [
       "array([3.46847657e-04, 1.00829358e-01, 9.99650412e-01, ...,\n",
       "       9.24228238e-04, 9.99999988e-01, 9.99993180e-01])"
      ]
     },
     "execution_count": 112,
     "metadata": {},
     "output_type": "execute_result"
    }
   ],
   "source": [
    "#Calculate Perdicted Probabilities fot validation emails\n",
    "y_predict_pb = multi_nb.predict_proba(X_val)[:, 1]\n",
    "y_predict_pb"
   ]
  },
  {
   "cell_type": "code",
   "execution_count": 113,
   "metadata": {},
   "outputs": [
    {
     "data": {
      "text/html": [
       "<div>\n",
       "<style scoped>\n",
       "    .dataframe tbody tr th:only-of-type {\n",
       "        vertical-align: middle;\n",
       "    }\n",
       "\n",
       "    .dataframe tbody tr th {\n",
       "        vertical-align: top;\n",
       "    }\n",
       "\n",
       "    .dataframe thead th {\n",
       "        text-align: right;\n",
       "    }\n",
       "</style>\n",
       "<table border=\"1\" class=\"dataframe\">\n",
       "  <thead>\n",
       "    <tr style=\"text-align: right;\">\n",
       "      <th></th>\n",
       "      <th>Accuracy</th>\n",
       "    </tr>\n",
       "    <tr>\n",
       "      <th>Models</th>\n",
       "      <th></th>\n",
       "    </tr>\n",
       "  </thead>\n",
       "  <tbody>\n",
       "    <tr>\n",
       "      <th>DT</th>\n",
       "      <td>0.944193</td>\n",
       "    </tr>\n",
       "    <tr>\n",
       "      <th>Log-reg</th>\n",
       "      <td>0.975982</td>\n",
       "    </tr>\n",
       "    <tr>\n",
       "      <th>RF</th>\n",
       "      <td>0.981068</td>\n",
       "    </tr>\n",
       "    <tr>\n",
       "      <th>NB</th>\n",
       "      <td>0.981633</td>\n",
       "    </tr>\n",
       "  </tbody>\n",
       "</table>\n",
       "</div>"
      ],
      "text/plain": [
       "         Accuracy\n",
       "Models           \n",
       "DT       0.944193\n",
       "Log-reg  0.975982\n",
       "RF       0.981068\n",
       "NB       0.981633"
      ]
     },
     "execution_count": 113,
     "metadata": {},
     "output_type": "execute_result"
    }
   ],
   "source": [
    "#Acuuracy of models in list format\n",
    "Model_select = pd.DataFrame({'Accuracy':Accuracy, 'Models':O}).set_index('Models')\n",
    "Model_select.sort_values('Accuracy', ascending=True)"
   ]
  },
  {
   "cell_type": "code",
   "execution_count": 114,
   "metadata": {},
   "outputs": [
    {
     "name": "stdout",
     "output_type": "stream",
     "text": [
      "Accuracy= 0.9835822371674414\n",
      "predict Probabilities= [9.99955885e-01 1.44900832e-05 4.32310204e-03 ... 9.70609687e-01\n",
      " 3.76008513e-07 1.24659711e-03]\n",
      "AUC: 0.998\n"
     ]
    }
   ],
   "source": [
    "#Test email Evaluation on best model\n",
    "y_predict = multi_nb.predict(X_test)\n",
    "Accuracy=metrics.accuracy_score(y_test, y_predict)\n",
    "print('Accuracy=',Accuracy)\n",
    "metrics.confusion_matrix(y_test, y_predict)\n",
    "# Perdicted Probabilities fot Test emails and keeping probablity for positive outcome by [:,1]\n",
    "from sklearn.metrics import roc_curve\n",
    "from sklearn.metrics import roc_auc_score\n",
    "y_predict_pb = multi_nb.predict_proba(X_test)[:, 1]\n",
    "print('predict Probabilities=',y_predict_pb)\n",
    "#Calculation of AUC metrics, compute the area under ROC curve\n",
    "auc = roc_auc_score(y_test, y_predict_pb)\n",
    "print('AUC: %.3f' % auc)"
   ]
  },
  {
   "cell_type": "code",
   "execution_count": 115,
   "metadata": {},
   "outputs": [
    {
     "data": {
      "image/png": "[encoded data removed]",
      "text/plain": [
       "<Figure size 432x288 with 1 Axes>"
      ]
     },
     "metadata": {},
     "output_type": "display_data"
    }
   ],
   "source": [
    "#Plot the Receiver operating characteristic (ROC) curve\n",
    "from matplotlib import pyplot\n",
    "#Calculate roc curve\n",
    "false_positiverate, true_positiverate, thresholds = roc_curve(y_test, y_predict_pb)\n",
    "plt.plot(false_positiverate,true_positiverate)\n",
    "#plot no skill\n",
    "pyplot.plot([1, 0], [1, 0], linestyle=':')\n",
    "# plot the roc curve for the model\n",
    "pyplot.plot(false_positiverate,true_positiverate,marker='.')\n",
    "pyplot.ylabel('False  +ve  Rate')\n",
    "pyplot.xlabel('True  +ve  Rate')\n",
    "pyplot.title('Receiver operating characteristic')\n",
    "pyplot.show()"
   ]
  },
  {
   "cell_type": "code",
   "execution_count": null,
   "metadata": {},
   "outputs": [],
   "source": []
  }
 ],
 "metadata": {
  "kernelspec": {
   "display_name": "Python 3",
   "language": "python",
   "name": "python3"
  }
 },
 "nbformat": 4,
 "nbformat_minor": 2
}
